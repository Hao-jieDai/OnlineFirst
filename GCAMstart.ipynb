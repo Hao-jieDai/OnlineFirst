{
 "cells": [
  {
   "cell_type": "markdown",
   "id": "3631ff3d",
   "metadata": {},
   "source": [
    "# 二、GCAM-China 使用入门\n",
    "\n",
    "**以下内容参考自[GCAM官方文档](https://jgcri.github.io/gcam-doc/)、[GCAM-China官方文档](https://umd-cgs.github.io/metarepo_gcam-china/index.html)。**  \n",
    "这里给出GCAM-China模型[最新版本下载链接](https://github.com/umd-cgs/gcam-china/releases/tag/gcam-china-v7.1)\n",
    "\n"
   ]
  }
 ],
 "metadata": {
  "kernelspec": {
   "display_name": "base",
   "language": "python",
   "name": "python3"
  },
  "language_info": {
   "name": "python",
   "version": "3.10.16"
  }
 },
 "nbformat": 4,
 "nbformat_minor": 5
}
